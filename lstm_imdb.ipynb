{
  "cells": [
    {
      "cell_type": "code",
      "execution_count": null,
      "metadata": {
        "colab": {
          "base_uri": "https://localhost:8080/"
        },
        "id": "FeIDIz0rngjZ",
        "outputId": "14ee7dbf-9248-4bb1-dfbc-5f97916baff2"
      },
      "outputs": [
        {
          "name": "stdout",
          "output_type": "stream",
          "text": [
            "Mounted at /content/drive\n"
          ]
        }
      ],
      "source": [
        "from google.colab import drive\n",
        "drive.mount('/content/drive')"
      ]
    },
    {
      "cell_type": "code",
      "execution_count": null,
      "metadata": {
        "id": "QYQTlPUBnxu_"
      },
      "outputs": [],
      "source": [
        "!cp '/content/drive/My Drive/Colab Notebooks/lstm_imdb.ipynb' '/content/drive/MyDrive/Tutorial_Deep_Learning_YT/lstm_imdb.ipynb'"
      ]
    },
    {
      "cell_type": "code",
      "execution_count": 1,
      "metadata": {
        "id": "dnsR0yvikHLu"
      },
      "outputs": [],
      "source": [
        "from tensorflow.keras.datasets import imdb\n",
        "from tensorflow.keras.models import Sequential\n",
        "from tensorflow.keras.layers import Dense, Input, LSTM, Embedding, Dropout\n",
        "from tensorflow.keras import utils\n",
        "from tensorflow.keras.preprocessing.sequence import pad_sequences\n",
        "from tensorflow.keras.metrics import AUC\n",
        "from tensorflow.keras.regularizers import l2\n",
        "from tensorflow.keras.callbacks import EarlyStopping\n",
        "import numpy as np\n",
        "import matplotlib.pyplot as plt\n",
        "%matplotlib inline"
      ]
    },
    {
      "cell_type": "code",
      "execution_count": 2,
      "metadata": {
        "id": "h9XsILBJos01"
      },
      "outputs": [],
      "source": [
        "max_words = 15000"
      ]
    },
    {
      "cell_type": "code",
      "execution_count": 3,
      "metadata": {
        "id": "pS06c_U4lvAU",
        "colab": {
          "base_uri": "https://localhost:8080/"
        },
        "outputId": "df50d3d6-18cd-4bd6-9f8d-31d9c5407fcc"
      },
      "outputs": [
        {
          "output_type": "stream",
          "name": "stdout",
          "text": [
            "Downloading data from https://storage.googleapis.com/tensorflow/tf-keras-datasets/imdb.npz\n",
            "\u001b[1m17464789/17464789\u001b[0m \u001b[32m━━━━━━━━━━━━━━━━━━━━\u001b[0m\u001b[37m\u001b[0m \u001b[1m0s\u001b[0m 0us/step\n"
          ]
        }
      ],
      "source": [
        "(X_train, y_train), (X_test, y_test) = imdb.load_data(num_words=max_words)"
      ]
    },
    {
      "cell_type": "code",
      "execution_count": 4,
      "metadata": {
        "id": "c1WAbzynoyuG"
      },
      "outputs": [],
      "source": [
        "maxlen = 200\n",
        "X_train = pad_sequences(X_train, maxlen=maxlen)\n",
        "X_test = pad_sequences(X_test, maxlen=maxlen)"
      ]
    },
    {
      "cell_type": "code",
      "execution_count": 5,
      "metadata": {
        "id": "-xYganb4rIWX"
      },
      "outputs": [],
      "source": [
        "model = Sequential([\n",
        "    Input(shape=(maxlen,)),\n",
        "    Embedding(max_words, 8, embeddings_regularizer=l2(0.01)),\n",
        "    Dropout(0.25),\n",
        "    LSTM(32),\n",
        "    Dense(1, activation='sigmoid')\n",
        "])\n",
        "model.compile(optimizer='adam',\n",
        "              loss='binary_crossentropy',\n",
        "              metrics=['accuracy',\n",
        "                       AUC(name='AUC_ROC', curve='ROC'),\n",
        "                       AUC(name='auc_pr', curve='PR')])"
      ]
    },
    {
      "cell_type": "code",
      "execution_count": 6,
      "metadata": {
        "id": "T2qG7jI3sa-F"
      },
      "outputs": [],
      "source": [
        "early_stopping = EarlyStopping(monitor='val_loss', patience=3, restore_best_weights=True)"
      ]
    },
    {
      "cell_type": "code",
      "execution_count": 7,
      "metadata": {
        "colab": {
          "base_uri": "https://localhost:8080/"
        },
        "id": "O5q2err0s5Jt",
        "outputId": "39ddd541-acab-4a97-edc9-09b9b7083bc7"
      },
      "outputs": [
        {
          "output_type": "stream",
          "name": "stdout",
          "text": [
            "Epoch 1/10\n",
            "\u001b[1m176/176\u001b[0m \u001b[32m━━━━━━━━━━━━━━━━━━━━\u001b[0m\u001b[37m\u001b[0m \u001b[1m16s\u001b[0m 21ms/step - AUC_ROC: 0.5586 - accuracy: 0.5354 - auc_pr: 0.5653 - loss: 0.9355 - val_AUC_ROC: 0.8911 - val_accuracy: 0.8068 - val_auc_pr: 0.8888 - val_loss: 0.5082\n",
            "Epoch 2/10\n",
            "\u001b[1m176/176\u001b[0m \u001b[32m━━━━━━━━━━━━━━━━━━━━\u001b[0m\u001b[37m\u001b[0m \u001b[1m9s\u001b[0m 12ms/step - AUC_ROC: 0.9082 - accuracy: 0.8328 - auc_pr: 0.9073 - loss: 0.4817 - val_AUC_ROC: 0.9261 - val_accuracy: 0.8288 - val_auc_pr: 0.9257 - val_loss: 0.4761\n",
            "Epoch 3/10\n",
            "\u001b[1m176/176\u001b[0m \u001b[32m━━━━━━━━━━━━━━━━━━━━\u001b[0m\u001b[37m\u001b[0m \u001b[1m2s\u001b[0m 11ms/step - AUC_ROC: 0.9398 - accuracy: 0.8709 - auc_pr: 0.9396 - loss: 0.4190 - val_AUC_ROC: 0.9381 - val_accuracy: 0.8612 - val_auc_pr: 0.9371 - val_loss: 0.4369\n",
            "Epoch 4/10\n",
            "\u001b[1m176/176\u001b[0m \u001b[32m━━━━━━━━━━━━━━━━━━━━\u001b[0m\u001b[37m\u001b[0m \u001b[1m3s\u001b[0m 17ms/step - AUC_ROC: 0.9491 - accuracy: 0.8818 - auc_pr: 0.9465 - loss: 0.3978 - val_AUC_ROC: 0.9406 - val_accuracy: 0.8708 - val_auc_pr: 0.9395 - val_loss: 0.4162\n",
            "Epoch 5/10\n",
            "\u001b[1m176/176\u001b[0m \u001b[32m━━━━━━━━━━━━━━━━━━━━\u001b[0m\u001b[37m\u001b[0m \u001b[1m2s\u001b[0m 11ms/step - AUC_ROC: 0.9554 - accuracy: 0.8927 - auc_pr: 0.9549 - loss: 0.3798 - val_AUC_ROC: 0.9396 - val_accuracy: 0.8636 - val_auc_pr: 0.9382 - val_loss: 0.4288\n",
            "Epoch 6/10\n",
            "\u001b[1m176/176\u001b[0m \u001b[32m━━━━━━━━━━━━━━━━━━━━\u001b[0m\u001b[37m\u001b[0m \u001b[1m2s\u001b[0m 11ms/step - AUC_ROC: 0.9594 - accuracy: 0.8943 - auc_pr: 0.9579 - loss: 0.3681 - val_AUC_ROC: 0.9427 - val_accuracy: 0.8696 - val_auc_pr: 0.9419 - val_loss: 0.4224\n",
            "Epoch 7/10\n",
            "\u001b[1m176/176\u001b[0m \u001b[32m━━━━━━━━━━━━━━━━━━━━\u001b[0m\u001b[37m\u001b[0m \u001b[1m2s\u001b[0m 11ms/step - AUC_ROC: 0.9628 - accuracy: 0.8993 - auc_pr: 0.9635 - loss: 0.3589 - val_AUC_ROC: 0.9422 - val_accuracy: 0.8664 - val_auc_pr: 0.9414 - val_loss: 0.4218\n",
            "Epoch 8/10\n",
            "\u001b[1m176/176\u001b[0m \u001b[32m━━━━━━━━━━━━━━━━━━━━\u001b[0m\u001b[37m\u001b[0m \u001b[1m2s\u001b[0m 11ms/step - AUC_ROC: 0.9612 - accuracy: 0.9023 - auc_pr: 0.9600 - loss: 0.3638 - val_AUC_ROC: 0.9439 - val_accuracy: 0.8416 - val_auc_pr: 0.9420 - val_loss: 0.4687\n",
            "Epoch 9/10\n",
            "\u001b[1m176/176\u001b[0m \u001b[32m━━━━━━━━━━━━━━━━━━━━\u001b[0m\u001b[37m\u001b[0m \u001b[1m3s\u001b[0m 14ms/step - AUC_ROC: 0.9644 - accuracy: 0.9043 - auc_pr: 0.9631 - loss: 0.3548 - val_AUC_ROC: 0.9444 - val_accuracy: 0.8664 - val_auc_pr: 0.9425 - val_loss: 0.4207\n",
            "Epoch 10/10\n",
            "\u001b[1m176/176\u001b[0m \u001b[32m━━━━━━━━━━━━━━━━━━━━\u001b[0m\u001b[37m\u001b[0m \u001b[1m3s\u001b[0m 14ms/step - AUC_ROC: 0.9672 - accuracy: 0.9078 - auc_pr: 0.9674 - loss: 0.3436 - val_AUC_ROC: 0.9439 - val_accuracy: 0.8756 - val_auc_pr: 0.9424 - val_loss: 0.4241\n"
          ]
        }
      ],
      "source": [
        "history = model.fit(X_train,\n",
        "                    y_train,\n",
        "                    batch_size=128,\n",
        "                    epochs=10,\n",
        "                    validation_split=0.1)\n",
        "                    # callbacks=[early_stopping])"
      ]
    },
    {
      "cell_type": "code",
      "source": [
        "plt.plot(history.history['accuracy'],\n",
        "         label='Доля верных ответов на обучающем наборе')\n",
        "plt.plot(history.history['val_accuracy'],\n",
        "         label='Доля верных ответов на проверочном наборе')\n",
        "plt.xlabel('Эпоха обучения')\n",
        "plt.ylabel('Доля верных ответов')\n",
        "plt.legend()\n",
        "plt.show()"
      ],
      "metadata": {
        "colab": {
          "base_uri": "https://localhost:8080/",
          "height": 449
        },
        "id": "dAu-2tSc0b6s",
        "outputId": "55e43a9b-e123-4a11-9d97-207be4819586"
      },
      "execution_count": 8,
      "outputs": [
        {
          "output_type": "display_data",
          "data": {
            "text/plain": [
              "<Figure size 640x480 with 1 Axes>"
            ],
            "image/png": "[encoded data removed]"
          },
          "metadata": {}
        }
      ]
    },
    {
      "cell_type": "code",
      "execution_count": 9,
      "metadata": {
        "id": "ckqaMNmDxUI9",
        "colab": {
          "base_uri": "https://localhost:8080/"
        },
        "outputId": "2ca8b8a3-cdfc-4fb3-f87e-e32d590e6c7c"
      },
      "outputs": [
        {
          "output_type": "stream",
          "name": "stdout",
          "text": [
            "\u001b[1m782/782\u001b[0m \u001b[32m━━━━━━━━━━━━━━━━━━━━\u001b[0m\u001b[37m\u001b[0m \u001b[1m4s\u001b[0m 6ms/step - AUC_ROC: 0.9435 - accuracy: 0.8711 - auc_pr: 0.9391 - loss: 0.4242\n"
          ]
        }
      ],
      "source": [
        "scores = model.evaluate(X_test, y_test, verbose=1)"
      ]
    },
    {
      "cell_type": "code",
      "source": [],
      "metadata": {
        "id": "mJkCPuAq1q-t"
      },
      "execution_count": null,
      "outputs": []
    }
  ],
  "metadata": {
    "accelerator": "GPU",
    "colab": {
      "gpuType": "T4",
      "provenance": []
    },
    "kernelspec": {
      "display_name": "Python 3",
      "name": "python3"
    },
    "language_info": {
      "name": "python"
    }
  },
  "nbformat": 4,
  "nbformat_minor": 0
}
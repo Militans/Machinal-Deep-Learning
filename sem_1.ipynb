{
  "nbformat": 4,
  "nbformat_minor": 0,
  "metadata": {
    "colab": {
      "provenance": [],
      "gpuType": "T4"
    },
    "kernelspec": {
      "name": "python3",
      "display_name": "Python 3"
    },
    "language_info": {
      "name": "python"
    },
    "accelerator": "GPU"
  },
  "cells": [
    {
      "cell_type": "code",
      "execution_count": null,
      "metadata": {
        "colab": {
          "base_uri": "https://localhost:8080/"
        },
        "id": "RRYu4r85n63t",
        "outputId": "d466f68e-b0d7-4914-cef6-491e0458ff3a"
      },
      "outputs": [
        {
          "output_type": "stream",
          "name": "stdout",
          "text": [
            "Mounted at /content/drive\n"
          ]
        }
      ],
      "source": [
        "from google.colab import drive\n",
        "drive.mount('/content/drive')"
      ]
    },
    {
      "cell_type": "code",
      "source": [
        "!cp \"/content/drive/My Drive/Colab Notebooks/sem_1.ipynb\" \"/content/drive/My Drive/Tutorial_Deep_Learning_YT/\"\n"
      ],
      "metadata": {
        "id": "iPIecRzyoGI4"
      },
      "execution_count": null,
      "outputs": []
    },
    {
      "cell_type": "code",
      "source": [
        "from tensorflow.keras.datasets import fashion_mnist\n",
        "from tensorflow.keras.models import Sequential\n",
        "from tensorflow.keras.layers import Dense, Input, Flatten\n",
        "from tensorflow.keras import utils\n",
        "import numpy as np\n",
        "import matplotlib.pyplot as plt\n",
        "from tensorflow.keras.metrics import AUC"
      ],
      "metadata": {
        "id": "nncn6VqL3Azt"
      },
      "execution_count": 1,
      "outputs": []
    },
    {
      "cell_type": "code",
      "source": [
        "(X_train, y_train), (X_test, y_test) = fashion_mnist.load_data()"
      ],
      "metadata": {
        "colab": {
          "base_uri": "https://localhost:8080/"
        },
        "id": "gWDgILah3Wak",
        "outputId": "6c275233-6d99-43ca-bd27-9013f050d186"
      },
      "execution_count": 2,
      "outputs": [
        {
          "output_type": "stream",
          "name": "stdout",
          "text": [
            "Downloading data from https://storage.googleapis.com/tensorflow/tf-keras-datasets/train-labels-idx1-ubyte.gz\n",
            "\u001b[1m29515/29515\u001b[0m \u001b[32m━━━━━━━━━━━━━━━━━━━━\u001b[0m\u001b[37m\u001b[0m \u001b[1m0s\u001b[0m 0us/step\n",
            "Downloading data from https://storage.googleapis.com/tensorflow/tf-keras-datasets/train-images-idx3-ubyte.gz\n",
            "\u001b[1m26421880/26421880\u001b[0m \u001b[32m━━━━━━━━━━━━━━━━━━━━\u001b[0m\u001b[37m\u001b[0m \u001b[1m0s\u001b[0m 0us/step\n",
            "Downloading data from https://storage.googleapis.com/tensorflow/tf-keras-datasets/t10k-labels-idx1-ubyte.gz\n",
            "\u001b[1m5148/5148\u001b[0m \u001b[32m━━━━━━━━━━━━━━━━━━━━\u001b[0m\u001b[37m\u001b[0m \u001b[1m0s\u001b[0m 0us/step\n",
            "Downloading data from https://storage.googleapis.com/tensorflow/tf-keras-datasets/t10k-images-idx3-ubyte.gz\n",
            "\u001b[1m4422102/4422102\u001b[0m \u001b[32m━━━━━━━━━━━━━━━━━━━━\u001b[0m\u001b[37m\u001b[0m \u001b[1m0s\u001b[0m 0us/step\n"
          ]
        }
      ]
    },
    {
      "cell_type": "code",
      "source": [
        "X_train = X_train.reshape(60000, 784)\n",
        "X_train = X_train /255\n",
        "X_test = X_test.reshape(-1, 784)\n",
        "X_test = X_test / 255\n"
      ],
      "metadata": {
        "id": "T5qmUc7p3xx7"
      },
      "execution_count": 3,
      "outputs": []
    },
    {
      "cell_type": "code",
      "source": [
        "y_train = utils.to_categorical(y_train, 10)\n",
        "y_test = utils.to_categorical(y_test, 10)\n",
        "classes = ['футболка', 'брюки', 'свитер', 'платье', 'пальто', 'туфли', 'рубашка',\n",
        "           'кроссовки', 'сумка', 'ботинки']"
      ],
      "metadata": {
        "id": "Z6goV1q74k3Z"
      },
      "execution_count": 4,
      "outputs": []
    },
    {
      "cell_type": "code",
      "source": [
        "model = Sequential([\n",
        "    Input(shape=(784,)),\n",
        "    Dense(800, activation='relu'),\n",
        "    Dense(10, activation='softmax')\n",
        "])"
      ],
      "metadata": {
        "id": "ORrLVfRe6Oye"
      },
      "execution_count": 5,
      "outputs": []
    },
    {
      "cell_type": "code",
      "source": [
        "model.compile(loss='categorical_crossentropy',\n",
        "              optimizer='adam',\n",
        "              metrics=['accuracy',\n",
        "                       AUC(name='AUC_ROC', curve='ROC'),\n",
        "                       AUC(name='auc_pr', curve='PR')])"
      ],
      "metadata": {
        "id": "UPEh15m68Reh"
      },
      "execution_count": 6,
      "outputs": []
    },
    {
      "cell_type": "code",
      "source": [
        "model.summary()"
      ],
      "metadata": {
        "colab": {
          "base_uri": "https://localhost:8080/",
          "height": 193
        },
        "id": "0R7xKkme9taR",
        "outputId": "185a3d94-35ae-4e7c-911c-68ced2d8f2b3"
      },
      "execution_count": 7,
      "outputs": [
        {
          "output_type": "display_data",
          "data": {
            "text/plain": [
              "\u001b[1mModel: \"sequential\"\u001b[0m\n"
            ],
            "text/html": [
              "<pre style=\"white-space:pre;overflow-x:auto;line-height:normal;font-family:Menlo,'DejaVu Sans Mono',consolas,'Courier New',monospace\"><span style=\"font-weight: bold\">Model: \"sequential\"</span>\n",
              "</pre>\n"
            ]
          },
          "metadata": {}
        },
        {
          "output_type": "display_data",
          "data": {
            "text/plain": [
              "┏━━━━━━━━━━━━━━━━━━━━━━━━━━━━━━━━━━━━━━┳━━━━━━━━━━━━━━━━━━━━━━━━━━━━━┳━━━━━━━━━━━━━━━━━┓\n",
              "┃\u001b[1m \u001b[0m\u001b[1mLayer (type)                        \u001b[0m\u001b[1m \u001b[0m┃\u001b[1m \u001b[0m\u001b[1mOutput Shape               \u001b[0m\u001b[1m \u001b[0m┃\u001b[1m \u001b[0m\u001b[1m        Param #\u001b[0m\u001b[1m \u001b[0m┃\n",
              "┡━━━━━━━━━━━━━━━━━━━━━━━━━━━━━━━━━━━━━━╇━━━━━━━━━━━━━━━━━━━━━━━━━━━━━╇━━━━━━━━━━━━━━━━━┩\n",
              "│ dense (\u001b[38;5;33mDense\u001b[0m)                        │ (\u001b[38;5;45mNone\u001b[0m, \u001b[38;5;34m800\u001b[0m)                 │         \u001b[38;5;34m628,000\u001b[0m │\n",
              "├──────────────────────────────────────┼─────────────────────────────┼─────────────────┤\n",
              "│ dense_1 (\u001b[38;5;33mDense\u001b[0m)                      │ (\u001b[38;5;45mNone\u001b[0m, \u001b[38;5;34m10\u001b[0m)                  │           \u001b[38;5;34m8,010\u001b[0m │\n",
              "└──────────────────────────────────────┴─────────────────────────────┴─────────────────┘\n"
            ],
            "text/html": [
              "<pre style=\"white-space:pre;overflow-x:auto;line-height:normal;font-family:Menlo,'DejaVu Sans Mono',consolas,'Courier New',monospace\">┏━━━━━━━━━━━━━━━━━━━━━━━━━━━━━━━━━━━━━━┳━━━━━━━━━━━━━━━━━━━━━━━━━━━━━┳━━━━━━━━━━━━━━━━━┓\n",
              "┃<span style=\"font-weight: bold\"> Layer (type)                         </span>┃<span style=\"font-weight: bold\"> Output Shape                </span>┃<span style=\"font-weight: bold\">         Param # </span>┃\n",
              "┡━━━━━━━━━━━━━━━━━━━━━━━━━━━━━━━━━━━━━━╇━━━━━━━━━━━━━━━━━━━━━━━━━━━━━╇━━━━━━━━━━━━━━━━━┩\n",
              "│ dense (<span style=\"color: #0087ff; text-decoration-color: #0087ff\">Dense</span>)                        │ (<span style=\"color: #00d7ff; text-decoration-color: #00d7ff\">None</span>, <span style=\"color: #00af00; text-decoration-color: #00af00\">800</span>)                 │         <span style=\"color: #00af00; text-decoration-color: #00af00\">628,000</span> │\n",
              "├──────────────────────────────────────┼─────────────────────────────┼─────────────────┤\n",
              "│ dense_1 (<span style=\"color: #0087ff; text-decoration-color: #0087ff\">Dense</span>)                      │ (<span style=\"color: #00d7ff; text-decoration-color: #00d7ff\">None</span>, <span style=\"color: #00af00; text-decoration-color: #00af00\">10</span>)                  │           <span style=\"color: #00af00; text-decoration-color: #00af00\">8,010</span> │\n",
              "└──────────────────────────────────────┴─────────────────────────────┴─────────────────┘\n",
              "</pre>\n"
            ]
          },
          "metadata": {}
        },
        {
          "output_type": "display_data",
          "data": {
            "text/plain": [
              "\u001b[1m Total params: \u001b[0m\u001b[38;5;34m636,010\u001b[0m (2.43 MB)\n"
            ],
            "text/html": [
              "<pre style=\"white-space:pre;overflow-x:auto;line-height:normal;font-family:Menlo,'DejaVu Sans Mono',consolas,'Courier New',monospace\"><span style=\"font-weight: bold\"> Total params: </span><span style=\"color: #00af00; text-decoration-color: #00af00\">636,010</span> (2.43 MB)\n",
              "</pre>\n"
            ]
          },
          "metadata": {}
        },
        {
          "output_type": "display_data",
          "data": {
            "text/plain": [
              "\u001b[1m Trainable params: \u001b[0m\u001b[38;5;34m636,010\u001b[0m (2.43 MB)\n"
            ],
            "text/html": [
              "<pre style=\"white-space:pre;overflow-x:auto;line-height:normal;font-family:Menlo,'DejaVu Sans Mono',consolas,'Courier New',monospace\"><span style=\"font-weight: bold\"> Trainable params: </span><span style=\"color: #00af00; text-decoration-color: #00af00\">636,010</span> (2.43 MB)\n",
              "</pre>\n"
            ]
          },
          "metadata": {}
        },
        {
          "output_type": "display_data",
          "data": {
            "text/plain": [
              "\u001b[1m Non-trainable params: \u001b[0m\u001b[38;5;34m0\u001b[0m (0.00 B)\n"
            ],
            "text/html": [
              "<pre style=\"white-space:pre;overflow-x:auto;line-height:normal;font-family:Menlo,'DejaVu Sans Mono',consolas,'Courier New',monospace\"><span style=\"font-weight: bold\"> Non-trainable params: </span><span style=\"color: #00af00; text-decoration-color: #00af00\">0</span> (0.00 B)\n",
              "</pre>\n"
            ]
          },
          "metadata": {}
        }
      ]
    },
    {
      "cell_type": "code",
      "source": [
        "model.fit(X_train, y_train, batch_size=100, epochs=10, verbose=2)"
      ],
      "metadata": {
        "colab": {
          "base_uri": "https://localhost:8080/"
        },
        "id": "pUlUhPvx9thl",
        "outputId": "32d102ba-dc2e-436e-e0f5-4324b7fe74c7"
      },
      "execution_count": 8,
      "outputs": [
        {
          "output_type": "stream",
          "name": "stdout",
          "text": [
            "Epoch 1/10\n",
            "600/600 - 7s - 11ms/step - AUC_ROC: 0.9848 - accuracy: 0.8269 - auc_pr: 0.9118 - loss: 0.4929\n",
            "Epoch 2/10\n",
            "600/600 - 6s - 10ms/step - AUC_ROC: 0.9913 - accuracy: 0.8684 - auc_pr: 0.9460 - loss: 0.3640\n",
            "Epoch 3/10\n",
            "600/600 - 2s - 3ms/step - AUC_ROC: 0.9929 - accuracy: 0.8825 - auc_pr: 0.9559 - loss: 0.3243\n",
            "Epoch 4/10\n",
            "600/600 - 3s - 4ms/step - AUC_ROC: 0.9939 - accuracy: 0.8893 - auc_pr: 0.9614 - loss: 0.2991\n",
            "Epoch 5/10\n",
            "600/600 - 2s - 4ms/step - AUC_ROC: 0.9945 - accuracy: 0.8948 - auc_pr: 0.9645 - loss: 0.2839\n",
            "Epoch 6/10\n",
            "600/600 - 2s - 3ms/step - AUC_ROC: 0.9949 - accuracy: 0.9007 - auc_pr: 0.9677 - loss: 0.2690\n",
            "Epoch 7/10\n",
            "600/600 - 2s - 3ms/step - AUC_ROC: 0.9955 - accuracy: 0.9063 - auc_pr: 0.9710 - loss: 0.2531\n",
            "Epoch 8/10\n",
            "600/600 - 1s - 2ms/step - AUC_ROC: 0.9958 - accuracy: 0.9097 - auc_pr: 0.9730 - loss: 0.2424\n",
            "Epoch 9/10\n",
            "600/600 - 1s - 2ms/step - AUC_ROC: 0.9962 - accuracy: 0.9141 - auc_pr: 0.9752 - loss: 0.2307\n",
            "Epoch 10/10\n",
            "600/600 - 1s - 2ms/step - AUC_ROC: 0.9965 - accuracy: 0.9172 - auc_pr: 0.9770 - loss: 0.2213\n"
          ]
        },
        {
          "output_type": "execute_result",
          "data": {
            "text/plain": [
              "<keras.src.callbacks.history.History at 0x7a97bc895840>"
            ]
          },
          "metadata": {},
          "execution_count": 8
        }
      ]
    },
    {
      "cell_type": "code",
      "source": [
        "from tensorflow.keras.layers import Dropout\n",
        "from tensorflow.keras.regularizers import l2\n",
        "model2 = Sequential([\n",
        "    Input(shape=(784,)),\n",
        "    Dense(800, activation='relu', kernel_regularizer=l2(0.001)),\n",
        "    # Dropout(0.2),\n",
        "    Dense(10, activation='softmax')\n",
        "])\n",
        "model2.compile(loss='categorical_crossentropy',\n",
        "              optimizer='adam',\n",
        "              metrics=['accuracy',\n",
        "                       AUC(name='AUC_ROC', curve='ROC'),\n",
        "                       AUC(name='auc_pr', curve='PR')])"
      ],
      "metadata": {
        "id": "K9YoKf9tMynS"
      },
      "execution_count": 9,
      "outputs": []
    },
    {
      "cell_type": "code",
      "source": [
        "model2.fit(X_train, y_train, batch_size=100, epochs=10, verbose=2)"
      ],
      "metadata": {
        "colab": {
          "base_uri": "https://localhost:8080/"
        },
        "id": "ZtV8nz_9OdWC",
        "outputId": "4e6df225-dadf-46ac-e9eb-4f0342480ce9"
      },
      "execution_count": 10,
      "outputs": [
        {
          "output_type": "stream",
          "name": "stdout",
          "text": [
            "Epoch 1/10\n",
            "600/600 - 4s - 6ms/step - AUC_ROC: 0.9839 - accuracy: 0.8201 - auc_pr: 0.9058 - loss: 0.8407\n",
            "Epoch 2/10\n",
            "600/600 - 1s - 2ms/step - AUC_ROC: 0.9887 - accuracy: 0.8481 - auc_pr: 0.9310 - loss: 0.5526\n",
            "Epoch 3/10\n",
            "600/600 - 1s - 2ms/step - AUC_ROC: 0.9899 - accuracy: 0.8577 - auc_pr: 0.9373 - loss: 0.4942\n",
            "Epoch 4/10\n",
            "600/600 - 1s - 2ms/step - AUC_ROC: 0.9904 - accuracy: 0.8598 - auc_pr: 0.9404 - loss: 0.4738\n",
            "Epoch 5/10\n",
            "600/600 - 1s - 2ms/step - AUC_ROC: 0.9906 - accuracy: 0.8630 - auc_pr: 0.9423 - loss: 0.4635\n",
            "Epoch 6/10\n",
            "600/600 - 1s - 2ms/step - AUC_ROC: 0.9916 - accuracy: 0.8684 - auc_pr: 0.9470 - loss: 0.4431\n",
            "Epoch 7/10\n",
            "600/600 - 1s - 2ms/step - AUC_ROC: 0.9918 - accuracy: 0.8715 - auc_pr: 0.9484 - loss: 0.4350\n",
            "Epoch 8/10\n",
            "600/600 - 2s - 3ms/step - AUC_ROC: 0.9921 - accuracy: 0.8740 - auc_pr: 0.9503 - loss: 0.4246\n",
            "Epoch 9/10\n",
            "600/600 - 2s - 3ms/step - AUC_ROC: 0.9922 - accuracy: 0.8762 - auc_pr: 0.9515 - loss: 0.4182\n",
            "Epoch 10/10\n",
            "600/600 - 1s - 2ms/step - AUC_ROC: 0.9926 - accuracy: 0.8778 - auc_pr: 0.9528 - loss: 0.4124\n"
          ]
        },
        {
          "output_type": "execute_result",
          "data": {
            "text/plain": [
              "<keras.src.callbacks.history.History at 0x7a975fb597e0>"
            ]
          },
          "metadata": {},
          "execution_count": 10
        }
      ]
    },
    {
      "cell_type": "code",
      "source": [
        "predictions = model.predict(X_train)"
      ],
      "metadata": {
        "id": "xdzeBkmZRSJG",
        "colab": {
          "base_uri": "https://localhost:8080/"
        },
        "outputId": "2005d8d7-ba63-42ec-d1af-98e18154fc79"
      },
      "execution_count": 11,
      "outputs": [
        {
          "output_type": "stream",
          "name": "stdout",
          "text": [
            "\u001b[1m1875/1875\u001b[0m \u001b[32m━━━━━━━━━━━━━━━━━━━━\u001b[0m\u001b[37m\u001b[0m \u001b[1m2s\u001b[0m 1ms/step\n"
          ]
        }
      ]
    },
    {
      "cell_type": "code",
      "source": [
        "predictions[0]"
      ],
      "metadata": {
        "colab": {
          "base_uri": "https://localhost:8080/"
        },
        "id": "fAnM9qjITyJG",
        "outputId": "b72b88a6-beaf-433a-dd7f-4c417756ead5"
      },
      "execution_count": 12,
      "outputs": [
        {
          "output_type": "execute_result",
          "data": {
            "text/plain": [
              "array([1.6026878e-11, 2.9859655e-09, 9.4549167e-11, 5.2012630e-11,\n",
              "       3.9667356e-11, 3.0948446e-05, 5.6325587e-11, 1.1596467e-02,\n",
              "       1.6680129e-08, 9.8837262e-01], dtype=float32)"
            ]
          },
          "metadata": {},
          "execution_count": 12
        }
      ]
    },
    {
      "cell_type": "code",
      "source": [
        "np.argmax(predictions[0])"
      ],
      "metadata": {
        "colab": {
          "base_uri": "https://localhost:8080/"
        },
        "id": "NIVB7IA3UcRV",
        "outputId": "26e8dd0c-c241-4ddd-ab7d-9fa654f4c547"
      },
      "execution_count": 13,
      "outputs": [
        {
          "output_type": "execute_result",
          "data": {
            "text/plain": [
              "9"
            ]
          },
          "metadata": {},
          "execution_count": 13
        }
      ]
    },
    {
      "cell_type": "code",
      "source": [
        "np.argmax(y_train[0])"
      ],
      "metadata": {
        "colab": {
          "base_uri": "https://localhost:8080/"
        },
        "id": "8qORio0CUhYI",
        "outputId": "661c346d-8db0-4530-dfe3-a2e6369d15b6"
      },
      "execution_count": 14,
      "outputs": [
        {
          "output_type": "execute_result",
          "data": {
            "text/plain": [
              "9"
            ]
          },
          "metadata": {},
          "execution_count": 14
        }
      ]
    },
    {
      "cell_type": "code",
      "source": [
        "scores = model.evaluate(X_test, y_test, verbose=2)\n"
      ],
      "metadata": {
        "id": "RpyA_YlXUnGS",
        "colab": {
          "base_uri": "https://localhost:8080/"
        },
        "outputId": "cc9b1657-a55d-4985-c983-f3c68f980258"
      },
      "execution_count": 15,
      "outputs": [
        {
          "output_type": "stream",
          "name": "stdout",
          "text": [
            "313/313 - 2s - 7ms/step - AUC_ROC: 0.9921 - accuracy: 0.8900 - auc_pr: 0.9573 - loss: 0.3196\n"
          ]
        }
      ]
    },
    {
      "cell_type": "code",
      "source": [
        "scores2 = model2.evaluate(X_test, y_test, verbose=2)"
      ],
      "metadata": {
        "colab": {
          "base_uri": "https://localhost:8080/"
        },
        "id": "SO2qdLjKX-5Z",
        "outputId": "70c37fc0-830a-4d72-8c3d-cccca4b0ae9a"
      },
      "execution_count": 16,
      "outputs": [
        {
          "output_type": "stream",
          "name": "stdout",
          "text": [
            "313/313 - 2s - 7ms/step - AUC_ROC: 0.9901 - accuracy: 0.8605 - auc_pr: 0.9417 - loss: 0.4556\n"
          ]
        }
      ]
    }
  ]
}
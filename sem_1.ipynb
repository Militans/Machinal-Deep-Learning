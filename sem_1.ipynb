{
  "nbformat": 4,
  "nbformat_minor": 0,
  "metadata": {
    "colab": {
      "provenance": []
    },
    "kernelspec": {
      "name": "python3",
      "display_name": "Python 3"
    },
    "language_info": {
      "name": "python"
    }
  },
  "cells": [
    {
      "cell_type": "code",
      "execution_count": null,
      "metadata": {
        "colab": {
          "base_uri": "https://localhost:8080/"
        },
        "id": "RRYu4r85n63t",
        "outputId": "d466f68e-b0d7-4914-cef6-491e0458ff3a"
      },
      "outputs": [
        {
          "output_type": "stream",
          "name": "stdout",
          "text": [
            "Mounted at /content/drive\n"
          ]
        }
      ],
      "source": [
        "from google.colab import drive\n",
        "drive.mount('/content/drive')"
      ]
    },
    {
      "cell_type": "code",
      "source": [
        "!cp \"/content/drive/My Drive/Colab Notebooks/sem_1.ipynb\" \"/content/drive/My Drive/Tutorial_Deep_Learning_YT/\"\n"
      ],
      "metadata": {
        "id": "iPIecRzyoGI4"
      },
      "execution_count": null,
      "outputs": []
    },
    {
      "cell_type": "code",
      "source": [
        "from tensorflow.keras.datasets import fashion_mnist\n",
        "from tensorflow.keras.models import Sequential\n",
        "from tensorflow.keras.layers import Dense, Input, Flatten\n",
        "from tensorflow.keras import utils\n",
        "import numpy as np\n",
        "import matplotlib.pyplot as plt\n",
        "from tensorflow.keras.metrics import AUC"
      ],
      "metadata": {
        "id": "nncn6VqL3Azt"
      },
      "execution_count": null,
      "outputs": []
    },
    {
      "cell_type": "code",
      "source": [
        "(X_train, y_train), (X_test, y_test) = fashion_mnist.load_data()"
      ],
      "metadata": {
        "colab": {
          "base_uri": "https://localhost:8080/"
        },
        "id": "gWDgILah3Wak",
        "outputId": "8fab52ce-4861-4005-c4f5-50cf9f1f898c"
      },
      "execution_count": null,
      "outputs": [
        {
          "output_type": "stream",
          "name": "stdout",
          "text": [
            "Downloading data from https://storage.googleapis.com/tensorflow/tf-keras-datasets/train-labels-idx1-ubyte.gz\n",
            "\u001b[1m29515/29515\u001b[0m \u001b[32m━━━━━━━━━━━━━━━━━━━━\u001b[0m\u001b[37m\u001b[0m \u001b[1m0s\u001b[0m 0us/step\n",
            "Downloading data from https://storage.googleapis.com/tensorflow/tf-keras-datasets/train-images-idx3-ubyte.gz\n",
            "\u001b[1m26421880/26421880\u001b[0m \u001b[32m━━━━━━━━━━━━━━━━━━━━\u001b[0m\u001b[37m\u001b[0m \u001b[1m0s\u001b[0m 0us/step\n",
            "Downloading data from https://storage.googleapis.com/tensorflow/tf-keras-datasets/t10k-labels-idx1-ubyte.gz\n",
            "\u001b[1m5148/5148\u001b[0m \u001b[32m━━━━━━━━━━━━━━━━━━━━\u001b[0m\u001b[37m\u001b[0m \u001b[1m0s\u001b[0m 1us/step\n",
            "Downloading data from https://storage.googleapis.com/tensorflow/tf-keras-datasets/t10k-images-idx3-ubyte.gz\n",
            "\u001b[1m4422102/4422102\u001b[0m \u001b[32m━━━━━━━━━━━━━━━━━━━━\u001b[0m\u001b[37m\u001b[0m \u001b[1m0s\u001b[0m 0us/step\n"
          ]
        }
      ]
    },
    {
      "cell_type": "code",
      "source": [
        "X_train = X_train.reshape(60000, 784)\n",
        "X_train = X_train /255"
      ],
      "metadata": {
        "id": "T5qmUc7p3xx7"
      },
      "execution_count": null,
      "outputs": []
    },
    {
      "cell_type": "code",
      "source": [
        "y_train = utils.to_categorical(y_train, 10)\n",
        "classes = ['футболка', 'брюки', 'свитер', 'платье', 'пальто', 'туфли', 'рубашка',\n",
        "           'кроссовки', 'сумка', 'ботинки']"
      ],
      "metadata": {
        "id": "Z6goV1q74k3Z"
      },
      "execution_count": null,
      "outputs": []
    },
    {
      "cell_type": "code",
      "source": [
        "model = Sequential([\n",
        "    Input(shape=(784,)),\n",
        "    Dense(800, activation='relu'),\n",
        "    Dense(10, activation='softmax')\n",
        "])"
      ],
      "metadata": {
        "id": "ORrLVfRe6Oye"
      },
      "execution_count": null,
      "outputs": []
    },
    {
      "cell_type": "code",
      "source": [
        "model.compile(loss='categorical_crossentropy',\n",
        "              optimizer='adam',\n",
        "              metrics=['accuracy',\n",
        "                       AUC(name='AUC_ROC', curve='ROC'),\n",
        "                       AUC(name='auc_pr', curve='PR')])"
      ],
      "metadata": {
        "id": "UPEh15m68Reh"
      },
      "execution_count": null,
      "outputs": []
    },
    {
      "cell_type": "code",
      "source": [
        "model.summary()"
      ],
      "metadata": {
        "colab": {
          "base_uri": "https://localhost:8080/",
          "height": 193
        },
        "id": "0R7xKkme9taR",
        "outputId": "342c2d44-d2fc-4023-faee-ff75d382a96a"
      },
      "execution_count": null,
      "outputs": [
        {
          "output_type": "display_data",
          "data": {
            "text/plain": [
              "\u001b[1mModel: \"sequential_2\"\u001b[0m\n"
            ],
            "text/html": [
              "<pre style=\"white-space:pre;overflow-x:auto;line-height:normal;font-family:Menlo,'DejaVu Sans Mono',consolas,'Courier New',monospace\"><span style=\"font-weight: bold\">Model: \"sequential_2\"</span>\n",
              "</pre>\n"
            ]
          },
          "metadata": {}
        },
        {
          "output_type": "display_data",
          "data": {
            "text/plain": [
              "┏━━━━━━━━━━━━━━━━━━━━━━━━━━━━━━━━━━━━━━┳━━━━━━━━━━━━━━━━━━━━━━━━━━━━━┳━━━━━━━━━━━━━━━━━┓\n",
              "┃\u001b[1m \u001b[0m\u001b[1mLayer (type)                        \u001b[0m\u001b[1m \u001b[0m┃\u001b[1m \u001b[0m\u001b[1mOutput Shape               \u001b[0m\u001b[1m \u001b[0m┃\u001b[1m \u001b[0m\u001b[1m        Param #\u001b[0m\u001b[1m \u001b[0m┃\n",
              "┡━━━━━━━━━━━━━━━━━━━━━━━━━━━━━━━━━━━━━━╇━━━━━━━━━━━━━━━━━━━━━━━━━━━━━╇━━━━━━━━━━━━━━━━━┩\n",
              "│ dense_4 (\u001b[38;5;33mDense\u001b[0m)                      │ (\u001b[38;5;45mNone\u001b[0m, \u001b[38;5;34m800\u001b[0m)                 │         \u001b[38;5;34m628,000\u001b[0m │\n",
              "├──────────────────────────────────────┼─────────────────────────────┼─────────────────┤\n",
              "│ dense_5 (\u001b[38;5;33mDense\u001b[0m)                      │ (\u001b[38;5;45mNone\u001b[0m, \u001b[38;5;34m10\u001b[0m)                  │           \u001b[38;5;34m8,010\u001b[0m │\n",
              "└──────────────────────────────────────┴─────────────────────────────┴─────────────────┘\n"
            ],
            "text/html": [
              "<pre style=\"white-space:pre;overflow-x:auto;line-height:normal;font-family:Menlo,'DejaVu Sans Mono',consolas,'Courier New',monospace\">┏━━━━━━━━━━━━━━━━━━━━━━━━━━━━━━━━━━━━━━┳━━━━━━━━━━━━━━━━━━━━━━━━━━━━━┳━━━━━━━━━━━━━━━━━┓\n",
              "┃<span style=\"font-weight: bold\"> Layer (type)                         </span>┃<span style=\"font-weight: bold\"> Output Shape                </span>┃<span style=\"font-weight: bold\">         Param # </span>┃\n",
              "┡━━━━━━━━━━━━━━━━━━━━━━━━━━━━━━━━━━━━━━╇━━━━━━━━━━━━━━━━━━━━━━━━━━━━━╇━━━━━━━━━━━━━━━━━┩\n",
              "│ dense_4 (<span style=\"color: #0087ff; text-decoration-color: #0087ff\">Dense</span>)                      │ (<span style=\"color: #00d7ff; text-decoration-color: #00d7ff\">None</span>, <span style=\"color: #00af00; text-decoration-color: #00af00\">800</span>)                 │         <span style=\"color: #00af00; text-decoration-color: #00af00\">628,000</span> │\n",
              "├──────────────────────────────────────┼─────────────────────────────┼─────────────────┤\n",
              "│ dense_5 (<span style=\"color: #0087ff; text-decoration-color: #0087ff\">Dense</span>)                      │ (<span style=\"color: #00d7ff; text-decoration-color: #00d7ff\">None</span>, <span style=\"color: #00af00; text-decoration-color: #00af00\">10</span>)                  │           <span style=\"color: #00af00; text-decoration-color: #00af00\">8,010</span> │\n",
              "└──────────────────────────────────────┴─────────────────────────────┴─────────────────┘\n",
              "</pre>\n"
            ]
          },
          "metadata": {}
        },
        {
          "output_type": "display_data",
          "data": {
            "text/plain": [
              "\u001b[1m Total params: \u001b[0m\u001b[38;5;34m636,010\u001b[0m (2.43 MB)\n"
            ],
            "text/html": [
              "<pre style=\"white-space:pre;overflow-x:auto;line-height:normal;font-family:Menlo,'DejaVu Sans Mono',consolas,'Courier New',monospace\"><span style=\"font-weight: bold\"> Total params: </span><span style=\"color: #00af00; text-decoration-color: #00af00\">636,010</span> (2.43 MB)\n",
              "</pre>\n"
            ]
          },
          "metadata": {}
        },
        {
          "output_type": "display_data",
          "data": {
            "text/plain": [
              "\u001b[1m Trainable params: \u001b[0m\u001b[38;5;34m636,010\u001b[0m (2.43 MB)\n"
            ],
            "text/html": [
              "<pre style=\"white-space:pre;overflow-x:auto;line-height:normal;font-family:Menlo,'DejaVu Sans Mono',consolas,'Courier New',monospace\"><span style=\"font-weight: bold\"> Trainable params: </span><span style=\"color: #00af00; text-decoration-color: #00af00\">636,010</span> (2.43 MB)\n",
              "</pre>\n"
            ]
          },
          "metadata": {}
        },
        {
          "output_type": "display_data",
          "data": {
            "text/plain": [
              "\u001b[1m Non-trainable params: \u001b[0m\u001b[38;5;34m0\u001b[0m (0.00 B)\n"
            ],
            "text/html": [
              "<pre style=\"white-space:pre;overflow-x:auto;line-height:normal;font-family:Menlo,'DejaVu Sans Mono',consolas,'Courier New',monospace\"><span style=\"font-weight: bold\"> Non-trainable params: </span><span style=\"color: #00af00; text-decoration-color: #00af00\">0</span> (0.00 B)\n",
              "</pre>\n"
            ]
          },
          "metadata": {}
        }
      ]
    },
    {
      "cell_type": "code",
      "source": [
        "model.fit(X_train, y_train, batch_size=100, epochs=10, verbose=2)"
      ],
      "metadata": {
        "colab": {
          "base_uri": "https://localhost:8080/"
        },
        "id": "pUlUhPvx9thl",
        "outputId": "1cb8a1f0-731a-4743-9ab4-3e8332b9d73f"
      },
      "execution_count": null,
      "outputs": [
        {
          "output_type": "stream",
          "name": "stdout",
          "text": [
            "Epoch 1/5\n",
            "600/600 - 8s - 14ms/step - AUC_ROC: 0.9854 - accuracy: 0.8286 - auc_pr: 0.9144 - loss: 0.4846\n",
            "Epoch 2/5\n",
            "600/600 - 11s - 18ms/step - AUC_ROC: 0.9912 - accuracy: 0.8671 - auc_pr: 0.9456 - loss: 0.3663\n",
            "Epoch 3/5\n",
            "600/600 - 8s - 13ms/step - AUC_ROC: 0.9930 - accuracy: 0.8828 - auc_pr: 0.9563 - loss: 0.3219\n",
            "Epoch 4/5\n",
            "600/600 - 9s - 15ms/step - AUC_ROC: 0.9939 - accuracy: 0.8910 - auc_pr: 0.9618 - loss: 0.2978\n",
            "Epoch 5/5\n",
            "600/600 - 11s - 18ms/step - AUC_ROC: 0.9945 - accuracy: 0.8949 - auc_pr: 0.9653 - loss: 0.2816\n"
          ]
        },
        {
          "output_type": "execute_result",
          "data": {
            "text/plain": [
              "<keras.src.callbacks.history.History at 0x7cadb48beb60>"
            ]
          },
          "metadata": {},
          "execution_count": 21
        }
      ]
    },
    {
      "cell_type": "code",
      "source": [
        "model.fit(X_train, y_train, batch_size=100, epochs=10, verbose=2)"
      ],
      "metadata": {
        "colab": {
          "base_uri": "https://localhost:8080/"
        },
        "id": "Lq8HYsNP9tk4",
        "outputId": "16d390b6-d4ca-4edf-ab55-0971ed2623bb"
      },
      "execution_count": null,
      "outputs": [
        {
          "output_type": "stream",
          "name": "stdout",
          "text": [
            "Epoch 1/10\n",
            "600/600 - 9s - 16ms/step - AUC_ROC: 0.9853 - accuracy: 0.8275 - auc_pr: 0.9134 - loss: 0.4893\n",
            "Epoch 2/10\n",
            "600/600 - 11s - 18ms/step - AUC_ROC: 0.9912 - accuracy: 0.8677 - auc_pr: 0.9456 - loss: 0.3663\n",
            "Epoch 3/10\n",
            "600/600 - 7s - 11ms/step - AUC_ROC: 0.9928 - accuracy: 0.8803 - auc_pr: 0.9554 - loss: 0.3255\n",
            "Epoch 4/10\n",
            "600/600 - 8s - 14ms/step - AUC_ROC: 0.9937 - accuracy: 0.8892 - auc_pr: 0.9604 - loss: 0.3019\n",
            "Epoch 5/10\n",
            "600/600 - 9s - 14ms/step - AUC_ROC: 0.9944 - accuracy: 0.8967 - auc_pr: 0.9648 - loss: 0.2830\n",
            "Epoch 6/10\n",
            "600/600 - 8s - 13ms/step - AUC_ROC: 0.9952 - accuracy: 0.9019 - auc_pr: 0.9688 - loss: 0.2639\n",
            "Epoch 7/10\n",
            "600/600 - 11s - 18ms/step - AUC_ROC: 0.9954 - accuracy: 0.9059 - auc_pr: 0.9707 - loss: 0.2544\n",
            "Epoch 8/10\n",
            "600/600 - 6s - 11ms/step - AUC_ROC: 0.9959 - accuracy: 0.9082 - auc_pr: 0.9731 - loss: 0.2416\n",
            "Epoch 9/10\n",
            "600/600 - 8s - 14ms/step - AUC_ROC: 0.9960 - accuracy: 0.9136 - auc_pr: 0.9747 - loss: 0.2316\n",
            "Epoch 10/10\n",
            "600/600 - 9s - 14ms/step - AUC_ROC: 0.9965 - accuracy: 0.9178 - auc_pr: 0.9766 - loss: 0.2221\n"
          ]
        },
        {
          "output_type": "execute_result",
          "data": {
            "text/plain": [
              "<keras.src.callbacks.history.History at 0x7cadb45f6bf0>"
            ]
          },
          "metadata": {},
          "execution_count": 24
        }
      ]
    },
    {
      "cell_type": "code",
      "source": [
        "X_train.shape"
      ],
      "metadata": {
        "colab": {
          "base_uri": "https://localhost:8080/"
        },
        "id": "Mi1u0N649toF",
        "outputId": "b5119201-ed3d-4883-c626-4a11db20260c"
      },
      "execution_count": null,
      "outputs": [
        {
          "output_type": "execute_result",
          "data": {
            "text/plain": [
              "(60000, 784)"
            ]
          },
          "metadata": {},
          "execution_count": 25
        }
      ]
    },
    {
      "cell_type": "code",
      "source": [
        "from tensorflow.keras.layers import Dropout\n",
        "from tensorflow.keras.regularizers import l2\n",
        "model2 = Sequential([\n",
        "    Input(shape=(784,)),\n",
        "    Dense(800, activation='relu', kernel_regularizer=l2(0.01)),\n",
        "    # Dropout(0.2),\n",
        "    Dense(10, activation='softmax')\n",
        "])\n",
        "model2.compile(loss='categorical_crossentropy',\n",
        "              optimizer='adam',\n",
        "              metrics=['accuracy',\n",
        "                       AUC(name='AUC_ROC', curve='ROC'),\n",
        "                       AUC(name='auc_pr', curve='PR')])"
      ],
      "metadata": {
        "id": "K9YoKf9tMynS"
      },
      "execution_count": null,
      "outputs": []
    },
    {
      "cell_type": "code",
      "source": [
        "model2.fit(X_train, y_train, batch_size=100, epochs=10, verbose=2)"
      ],
      "metadata": {
        "colab": {
          "base_uri": "https://localhost:8080/"
        },
        "id": "ZtV8nz_9OdWC",
        "outputId": "7a79bc9e-fd55-4631-99cb-e7db926143de"
      },
      "execution_count": null,
      "outputs": [
        {
          "output_type": "stream",
          "name": "stdout",
          "text": [
            "Epoch 1/10\n",
            "600/600 - 11s - 18ms/step - AUC_ROC: 0.9786 - accuracy: 0.7901 - auc_pr: 0.8752 - loss: 1.3062\n",
            "Epoch 2/10\n",
            "600/600 - 9s - 15ms/step - AUC_ROC: 0.9825 - accuracy: 0.8066 - auc_pr: 0.8942 - loss: 0.6712\n",
            "Epoch 3/10\n",
            "600/600 - 10s - 17ms/step - AUC_ROC: 0.9835 - accuracy: 0.8146 - auc_pr: 0.9003 - loss: 0.6466\n",
            "Epoch 4/10\n",
            "600/600 - 11s - 19ms/step - AUC_ROC: 0.9849 - accuracy: 0.8197 - auc_pr: 0.9078 - loss: 0.6194\n",
            "Epoch 5/10\n",
            "600/600 - 10s - 17ms/step - AUC_ROC: 0.9851 - accuracy: 0.8227 - auc_pr: 0.9095 - loss: 0.6141\n",
            "Epoch 6/10\n",
            "600/600 - 9s - 14ms/step - AUC_ROC: 0.9862 - accuracy: 0.8313 - auc_pr: 0.9156 - loss: 0.5895\n",
            "Epoch 7/10\n",
            "600/600 - 11s - 19ms/step - AUC_ROC: 0.9864 - accuracy: 0.8324 - auc_pr: 0.9171 - loss: 0.5823\n",
            "Epoch 8/10\n",
            "600/600 - 11s - 18ms/step - AUC_ROC: 0.9871 - accuracy: 0.8345 - auc_pr: 0.9204 - loss: 0.5673\n",
            "Epoch 9/10\n",
            "600/600 - 10s - 16ms/step - AUC_ROC: 0.9875 - accuracy: 0.8390 - auc_pr: 0.9230 - loss: 0.5566\n",
            "Epoch 10/10\n",
            "600/600 - 9s - 15ms/step - AUC_ROC: 0.9877 - accuracy: 0.8405 - auc_pr: 0.9243 - loss: 0.5515\n"
          ]
        },
        {
          "output_type": "execute_result",
          "data": {
            "text/plain": [
              "<keras.src.callbacks.history.History at 0x7cad8f55c9a0>"
            ]
          },
          "metadata": {},
          "execution_count": 29
        }
      ]
    },
    {
      "cell_type": "code",
      "source": [
        "predictions = model.predict(X_train)"
      ],
      "metadata": {
        "id": "xdzeBkmZRSJG",
        "colab": {
          "base_uri": "https://localhost:8080/"
        },
        "outputId": "0b934531-94b2-4a42-cb01-2023c52ee8d8"
      },
      "execution_count": 33,
      "outputs": [
        {
          "output_type": "stream",
          "name": "stdout",
          "text": [
            "\u001b[1m1875/1875\u001b[0m \u001b[32m━━━━━━━━━━━━━━━━━━━━\u001b[0m\u001b[37m\u001b[0m \u001b[1m6s\u001b[0m 3ms/step\n"
          ]
        }
      ]
    },
    {
      "cell_type": "code",
      "source": [
        "predictions[0]"
      ],
      "metadata": {
        "colab": {
          "base_uri": "https://localhost:8080/"
        },
        "id": "fAnM9qjITyJG",
        "outputId": "92388a0a-4f07-4484-b818-f5a3bec5fc36"
      },
      "execution_count": 34,
      "outputs": [
        {
          "output_type": "execute_result",
          "data": {
            "text/plain": [
              "array([1.2170741e-10, 1.5471402e-09, 2.6083089e-11, 7.4846414e-12,\n",
              "       1.6322785e-11, 4.8793786e-06, 1.2855750e-10, 5.9418520e-03,\n",
              "       3.5933648e-11, 9.9405336e-01], dtype=float32)"
            ]
          },
          "metadata": {},
          "execution_count": 34
        }
      ]
    },
    {
      "cell_type": "code",
      "source": [
        "np.argmax(predictions[0])"
      ],
      "metadata": {
        "colab": {
          "base_uri": "https://localhost:8080/"
        },
        "id": "NIVB7IA3UcRV",
        "outputId": "64515fa2-12f6-479d-8b4d-7515551178bf"
      },
      "execution_count": 35,
      "outputs": [
        {
          "output_type": "execute_result",
          "data": {
            "text/plain": [
              "9"
            ]
          },
          "metadata": {},
          "execution_count": 35
        }
      ]
    },
    {
      "cell_type": "code",
      "source": [
        "np.argmax(y_train[0])"
      ],
      "metadata": {
        "colab": {
          "base_uri": "https://localhost:8080/"
        },
        "id": "8qORio0CUhYI",
        "outputId": "2f195503-2c01-4cf1-fb07-7ce755888601"
      },
      "execution_count": 36,
      "outputs": [
        {
          "output_type": "execute_result",
          "data": {
            "text/plain": [
              "9"
            ]
          },
          "metadata": {},
          "execution_count": 36
        }
      ]
    },
    {
      "cell_type": "code",
      "source": [],
      "metadata": {
        "id": "RpyA_YlXUnGS"
      },
      "execution_count": null,
      "outputs": []
    }
  ]
}
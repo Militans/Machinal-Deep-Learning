{
  "nbformat": 4,
  "nbformat_minor": 0,
  "metadata": {
    "colab": {
      "provenance": [],
      "gpuType": "T4"
    },
    "kernelspec": {
      "name": "python3",
      "display_name": "Python 3"
    },
    "language_info": {
      "name": "python"
    },
    "accelerator": "GPU"
  },
  "cells": [
    {
      "cell_type": "code",
      "source": [
        "from tensorflow.keras.datasets import imdb\n",
        "from tensorflow.keras.models import Sequential\n",
        "from tensorflow.keras.metrics import AUC\n",
        "from tensorflow.keras import utils\n",
        "from tensorflow.keras.regularizers import l2\n",
        "from tensorflow.keras.callbacks import EarlyStopping\n",
        "from tensorflow.keras.layers import Dense, Embedding, Input, Dropout, Flatten\n",
        "from tensorflow.keras.preprocessing.sequence import pad_sequences\n",
        "import matplotlib.pyplot as plt\n",
        "import numpy as np\n",
        "%matplotlib inline"
      ],
      "metadata": {
        "id": "vbWNviuYXnbu"
      },
      "execution_count": 20,
      "outputs": []
    },
    {
      "cell_type": "code",
      "source": [
        "max_words = 10000"
      ],
      "metadata": {
        "id": "BKHQdB3ZXneE"
      },
      "execution_count": 105,
      "outputs": []
    },
    {
      "cell_type": "code",
      "source": [
        "(X_train, y_train), (X_test, y_test) = imdb.load_data(num_words=max_words)"
      ],
      "metadata": {
        "id": "iMguUJwlXngv"
      },
      "execution_count": 106,
      "outputs": []
    },
    {
      "cell_type": "code",
      "source": [
        "max_len = 200"
      ],
      "metadata": {
        "id": "-WMpSROrXni7"
      },
      "execution_count": 109,
      "outputs": []
    },
    {
      "cell_type": "code",
      "source": [
        "X_train = pad_sequences(X_train, maxlen=max_len, padding='post')\n",
        "X_test = pad_sequences(X_test, maxlen=max_len, padding='post')"
      ],
      "metadata": {
        "id": "umhc8B20BkYE"
      },
      "execution_count": 110,
      "outputs": []
    },
    {
      "cell_type": "code",
      "source": [
        "l2_regularizer_rate = 0.005\n",
        "model = Sequential([\n",
        "    Input(shape=(max_len, )),\n",
        "    Embedding(max_words, 2, embeddings_regularizer=l2(l2_regularizer_rate)),\n",
        "    Dropout(0.3),\n",
        "    Flatten(),\n",
        "    Dense(1, activation='sigmoid')\n",
        "])\n",
        "model.compile(optimizer='adam',\n",
        "              loss='binary_crossentropy',\n",
        "              metrics=['accuracy',\n",
        "                       AUC(name='AUC_ROC', curve='ROC'),\n",
        "                       AUC(name='auc_pr', curve='PR')])\n",
        ""
      ],
      "metadata": {
        "id": "jnjscqPGCBeD"
      },
      "execution_count": 121,
      "outputs": []
    },
    {
      "cell_type": "code",
      "source": [
        "early_stopping = EarlyStopping(monitor='val_loss', patience=2, restore_best_weights=True)\n",
        "history = model.fit(X_train,\n",
        "                    y_train,\n",
        "                    batch_size=128,\n",
        "                    epochs=45,\n",
        "                    validation_split=0.1,\n",
        "                    callbacks=[early_stopping])"
      ],
      "metadata": {
        "colab": {
          "base_uri": "https://localhost:8080/"
        },
        "id": "nXseaAL4CBgd",
        "outputId": "a1b754da-56cd-43ad-f736-ec9b38175cf4"
      },
      "execution_count": 122,
      "outputs": [
        {
          "output_type": "stream",
          "name": "stdout",
          "text": [
            "Epoch 1/45\n",
            "\u001b[1m176/176\u001b[0m \u001b[32m━━━━━━━━━━━━━━━━━━━━\u001b[0m\u001b[37m\u001b[0m \u001b[1m7s\u001b[0m 22ms/step - AUC_ROC: 0.5089 - accuracy: 0.5058 - auc_pr: 0.5073 - loss: 0.7185 - val_AUC_ROC: 0.5375 - val_accuracy: 0.5276 - val_auc_pr: 0.5213 - val_loss: 0.6939\n",
            "Epoch 2/45\n",
            "\u001b[1m176/176\u001b[0m \u001b[32m━━━━━━━━━━━━━━━━━━━━\u001b[0m\u001b[37m\u001b[0m \u001b[1m5s\u001b[0m 2ms/step - AUC_ROC: 0.5970 - accuracy: 0.5705 - auc_pr: 0.5774 - loss: 0.6906 - val_AUC_ROC: 0.7344 - val_accuracy: 0.6736 - val_auc_pr: 0.6922 - val_loss: 0.6648\n",
            "Epoch 3/45\n",
            "\u001b[1m176/176\u001b[0m \u001b[32m━━━━━━━━━━━━━━━━━━━━\u001b[0m\u001b[37m\u001b[0m \u001b[1m0s\u001b[0m 2ms/step - AUC_ROC: 0.7737 - accuracy: 0.7039 - auc_pr: 0.7557 - loss: 0.6412 - val_AUC_ROC: 0.8574 - val_accuracy: 0.7748 - val_auc_pr: 0.8554 - val_loss: 0.5732\n",
            "Epoch 4/45\n",
            "\u001b[1m176/176\u001b[0m \u001b[32m━━━━━━━━━━━━━━━━━━━━\u001b[0m\u001b[37m\u001b[0m \u001b[1m0s\u001b[0m 2ms/step - AUC_ROC: 0.8637 - accuracy: 0.7848 - auc_pr: 0.8604 - loss: 0.5601 - val_AUC_ROC: 0.8870 - val_accuracy: 0.8088 - val_auc_pr: 0.8845 - val_loss: 0.5275\n",
            "Epoch 5/45\n",
            "\u001b[1m176/176\u001b[0m \u001b[32m━━━━━━━━━━━━━━━━━━━━\u001b[0m\u001b[37m\u001b[0m \u001b[1m1s\u001b[0m 2ms/step - AUC_ROC: 0.8890 - accuracy: 0.8060 - auc_pr: 0.8885 - loss: 0.5214 - val_AUC_ROC: 0.8978 - val_accuracy: 0.8220 - val_auc_pr: 0.8965 - val_loss: 0.5053\n",
            "Epoch 6/45\n",
            "\u001b[1m176/176\u001b[0m \u001b[32m━━━━━━━━━━━━━━━━━━━━\u001b[0m\u001b[37m\u001b[0m \u001b[1m0s\u001b[0m 2ms/step - AUC_ROC: 0.9027 - accuracy: 0.8220 - auc_pr: 0.8989 - loss: 0.4986 - val_AUC_ROC: 0.9060 - val_accuracy: 0.8300 - val_auc_pr: 0.9043 - val_loss: 0.4901\n",
            "Epoch 7/45\n",
            "\u001b[1m176/176\u001b[0m \u001b[32m━━━━━━━━━━━━━━━━━━━━\u001b[0m\u001b[37m\u001b[0m \u001b[1m0s\u001b[0m 2ms/step - AUC_ROC: 0.9123 - accuracy: 0.8335 - auc_pr: 0.9134 - loss: 0.4804 - val_AUC_ROC: 0.9116 - val_accuracy: 0.8380 - val_auc_pr: 0.9096 - val_loss: 0.4777\n",
            "Epoch 8/45\n",
            "\u001b[1m176/176\u001b[0m \u001b[32m━━━━━━━━━━━━━━━━━━━━\u001b[0m\u001b[37m\u001b[0m \u001b[1m0s\u001b[0m 2ms/step - AUC_ROC: 0.9179 - accuracy: 0.8412 - auc_pr: 0.9164 - loss: 0.4691 - val_AUC_ROC: 0.9160 - val_accuracy: 0.8332 - val_auc_pr: 0.9139 - val_loss: 0.4726\n",
            "Epoch 9/45\n",
            "\u001b[1m176/176\u001b[0m \u001b[32m━━━━━━━━━━━━━━━━━━━━\u001b[0m\u001b[37m\u001b[0m \u001b[1m1s\u001b[0m 3ms/step - AUC_ROC: 0.9248 - accuracy: 0.8466 - auc_pr: 0.9246 - loss: 0.4529 - val_AUC_ROC: 0.9194 - val_accuracy: 0.8456 - val_auc_pr: 0.9174 - val_loss: 0.4583\n",
            "Epoch 10/45\n",
            "\u001b[1m176/176\u001b[0m \u001b[32m━━━━━━━━━━━━━━━━━━━━\u001b[0m\u001b[37m\u001b[0m \u001b[1m1s\u001b[0m 3ms/step - AUC_ROC: 0.9310 - accuracy: 0.8535 - auc_pr: 0.9314 - loss: 0.4419 - val_AUC_ROC: 0.9217 - val_accuracy: 0.8488 - val_auc_pr: 0.9208 - val_loss: 0.4519\n",
            "Epoch 11/45\n",
            "\u001b[1m176/176\u001b[0m \u001b[32m━━━━━━━━━━━━━━━━━━━━\u001b[0m\u001b[37m\u001b[0m \u001b[1m1s\u001b[0m 3ms/step - AUC_ROC: 0.9299 - accuracy: 0.8517 - auc_pr: 0.9313 - loss: 0.4410 - val_AUC_ROC: 0.9219 - val_accuracy: 0.8428 - val_auc_pr: 0.9213 - val_loss: 0.4475\n",
            "Epoch 12/45\n",
            "\u001b[1m176/176\u001b[0m \u001b[32m━━━━━━━━━━━━━━━━━━━━\u001b[0m\u001b[37m\u001b[0m \u001b[1m1s\u001b[0m 2ms/step - AUC_ROC: 0.9339 - accuracy: 0.8610 - auc_pr: 0.9335 - loss: 0.4299 - val_AUC_ROC: 0.9264 - val_accuracy: 0.8508 - val_auc_pr: 0.9248 - val_loss: 0.4382\n",
            "Epoch 13/45\n",
            "\u001b[1m176/176\u001b[0m \u001b[32m━━━━━━━━━━━━━━━━━━━━\u001b[0m\u001b[37m\u001b[0m \u001b[1m1s\u001b[0m 2ms/step - AUC_ROC: 0.9356 - accuracy: 0.8580 - auc_pr: 0.9335 - loss: 0.4258 - val_AUC_ROC: 0.9278 - val_accuracy: 0.8500 - val_auc_pr: 0.9266 - val_loss: 0.4346\n",
            "Epoch 14/45\n",
            "\u001b[1m176/176\u001b[0m \u001b[32m━━━━━━━━━━━━━━━━━━━━\u001b[0m\u001b[37m\u001b[0m \u001b[1m1s\u001b[0m 2ms/step - AUC_ROC: 0.9422 - accuracy: 0.8675 - auc_pr: 0.9428 - loss: 0.4135 - val_AUC_ROC: 0.9264 - val_accuracy: 0.8456 - val_auc_pr: 0.9266 - val_loss: 0.4324\n",
            "Epoch 15/45\n",
            "\u001b[1m176/176\u001b[0m \u001b[32m━━━━━━━━━━━━━━━━━━━━\u001b[0m\u001b[37m\u001b[0m \u001b[1m1s\u001b[0m 2ms/step - AUC_ROC: 0.9385 - accuracy: 0.8607 - auc_pr: 0.9406 - loss: 0.4140 - val_AUC_ROC: 0.9321 - val_accuracy: 0.8572 - val_auc_pr: 0.9302 - val_loss: 0.4241\n",
            "Epoch 16/45\n",
            "\u001b[1m176/176\u001b[0m \u001b[32m━━━━━━━━━━━━━━━━━━━━\u001b[0m\u001b[37m\u001b[0m \u001b[1m0s\u001b[0m 2ms/step - AUC_ROC: 0.9444 - accuracy: 0.8742 - auc_pr: 0.9439 - loss: 0.4028 - val_AUC_ROC: 0.9325 - val_accuracy: 0.8636 - val_auc_pr: 0.9292 - val_loss: 0.4203\n",
            "Epoch 17/45\n",
            "\u001b[1m176/176\u001b[0m \u001b[32m━━━━━━━━━━━━━━━━━━━━\u001b[0m\u001b[37m\u001b[0m \u001b[1m0s\u001b[0m 2ms/step - AUC_ROC: 0.9457 - accuracy: 0.8759 - auc_pr: 0.9457 - loss: 0.3984 - val_AUC_ROC: 0.9337 - val_accuracy: 0.8588 - val_auc_pr: 0.9308 - val_loss: 0.4164\n",
            "Epoch 18/45\n",
            "\u001b[1m176/176\u001b[0m \u001b[32m━━━━━━━━━━━━━━━━━━━━\u001b[0m\u001b[37m\u001b[0m \u001b[1m1s\u001b[0m 2ms/step - AUC_ROC: 0.9484 - accuracy: 0.8764 - auc_pr: 0.9491 - loss: 0.3910 - val_AUC_ROC: 0.9352 - val_accuracy: 0.8616 - val_auc_pr: 0.9334 - val_loss: 0.4120\n",
            "Epoch 19/45\n",
            "\u001b[1m176/176\u001b[0m \u001b[32m━━━━━━━━━━━━━━━━━━━━\u001b[0m\u001b[37m\u001b[0m \u001b[1m0s\u001b[0m 2ms/step - AUC_ROC: 0.9462 - accuracy: 0.8754 - auc_pr: 0.9462 - loss: 0.3930 - val_AUC_ROC: 0.9351 - val_accuracy: 0.8608 - val_auc_pr: 0.9333 - val_loss: 0.4101\n",
            "Epoch 20/45\n",
            "\u001b[1m176/176\u001b[0m \u001b[32m━━━━━━━━━━━━━━━━━━━━\u001b[0m\u001b[37m\u001b[0m \u001b[1m1s\u001b[0m 2ms/step - AUC_ROC: 0.9505 - accuracy: 0.8800 - auc_pr: 0.9503 - loss: 0.3838 - val_AUC_ROC: 0.9370 - val_accuracy: 0.8644 - val_auc_pr: 0.9348 - val_loss: 0.4059\n",
            "Epoch 21/45\n",
            "\u001b[1m176/176\u001b[0m \u001b[32m━━━━━━━━━━━━━━━━━━━━\u001b[0m\u001b[37m\u001b[0m \u001b[1m0s\u001b[0m 2ms/step - AUC_ROC: 0.9486 - accuracy: 0.8792 - auc_pr: 0.9487 - loss: 0.3852 - val_AUC_ROC: 0.9369 - val_accuracy: 0.8640 - val_auc_pr: 0.9353 - val_loss: 0.4035\n",
            "Epoch 22/45\n",
            "\u001b[1m176/176\u001b[0m \u001b[32m━━━━━━━━━━━━━━━━━━━━\u001b[0m\u001b[37m\u001b[0m \u001b[1m0s\u001b[0m 2ms/step - AUC_ROC: 0.9505 - accuracy: 0.8812 - auc_pr: 0.9511 - loss: 0.3795 - val_AUC_ROC: 0.9371 - val_accuracy: 0.8656 - val_auc_pr: 0.9349 - val_loss: 0.4036\n",
            "Epoch 23/45\n",
            "\u001b[1m176/176\u001b[0m \u001b[32m━━━━━━━━━━━━━━━━━━━━\u001b[0m\u001b[37m\u001b[0m \u001b[1m0s\u001b[0m 2ms/step - AUC_ROC: 0.9540 - accuracy: 0.8847 - auc_pr: 0.9544 - loss: 0.3725 - val_AUC_ROC: 0.9375 - val_accuracy: 0.8628 - val_auc_pr: 0.9337 - val_loss: 0.4037\n"
          ]
        }
      ]
    },
    {
      "cell_type": "code",
      "source": [
        "plt.plot(history.history['accuracy'],\n",
        "         label='Доля верных ответов на обучающем наборе')\n",
        "plt.plot(history.history['val_accuracy'],\n",
        "         label='Доля верных ответов на проверочном наборе')\n",
        "plt.xlabel('Эпоха обучения')\n",
        "plt.ylabel('Доля верных ответов')\n",
        "plt.legend()\n",
        "plt.show()"
      ],
      "metadata": {
        "colab": {
          "base_uri": "https://localhost:8080/",
          "height": 449
        },
        "id": "ZrXir0vECBjR",
        "outputId": "1b7dcaae-e4b7-4154-e739-266032b75b0a"
      },
      "execution_count": 123,
      "outputs": [
        {
          "output_type": "display_data",
          "data": {
            "text/plain": [
              "<Figure size 640x480 with 1 Axes>"
            ],
            "image/png": "[encoded data removed]"
          },
          "metadata": {}
        }
      ]
    },
    {
      "cell_type": "code",
      "source": [
        "scores = model.evaluate(X_test, y_test, verbose=1)"
      ],
      "metadata": {
        "colab": {
          "base_uri": "https://localhost:8080/"
        },
        "id": "Oqa-SldOHAwZ",
        "outputId": "57aeaa0e-5360-4a5f-85e4-94c8a4f92661"
      },
      "execution_count": 124,
      "outputs": [
        {
          "output_type": "stream",
          "name": "stdout",
          "text": [
            "\u001b[1m782/782\u001b[0m \u001b[32m━━━━━━━━━━━━━━━━━━━━\u001b[0m\u001b[37m\u001b[0m \u001b[1m3s\u001b[0m 2ms/step - AUC_ROC: 0.9408 - accuracy: 0.8690 - auc_pr: 0.9373 - loss: 0.4001\n"
          ]
        }
      ]
    },
    {
      "cell_type": "code",
      "source": [
        "embedding_matrix = model.layers[0].get_weights()[0]"
      ],
      "metadata": {
        "id": "E2IimR1cL0e9"
      },
      "execution_count": 125,
      "outputs": []
    },
    {
      "cell_type": "code",
      "source": [
        "embedding_matrix[:5]"
      ],
      "metadata": {
        "colab": {
          "base_uri": "https://localhost:8080/"
        },
        "id": "xn57UydfL0o2",
        "outputId": "525c73c4-5040-4ae6-f0a3-fe0de8f372ae"
      },
      "execution_count": 126,
      "outputs": [
        {
          "output_type": "execute_result",
          "data": {
            "text/plain": [
              "array([[-5.3846496e-03,  2.9778022e-03],\n",
              "       [ 3.4611963e-02,  5.7859648e-02],\n",
              "       [ 1.3666835e-02,  6.2966212e-03],\n",
              "       [-3.5498814e-40,  5.4349361e-41],\n",
              "       [-9.2721032e-03, -1.0642972e-02]], dtype=float32)"
            ]
          },
          "metadata": {},
          "execution_count": 126
        }
      ]
    },
    {
      "cell_type": "code",
      "source": [
        "word_index_org = imdb.get_word_index()"
      ],
      "metadata": {
        "colab": {
          "base_uri": "https://localhost:8080/"
        },
        "id": "GBEPbtl_L0ud",
        "outputId": "fec8b3ef-c3e1-4e97-d6c5-4969548af83d"
      },
      "execution_count": 127,
      "outputs": [
        {
          "output_type": "stream",
          "name": "stdout",
          "text": [
            "Downloading data from https://storage.googleapis.com/tensorflow/tf-keras-datasets/imdb_word_index.json\n",
            "\u001b[1m1641221/1641221\u001b[0m \u001b[32m━━━━━━━━━━━━━━━━━━━━\u001b[0m\u001b[37m\u001b[0m \u001b[1m1s\u001b[0m 1us/step\n"
          ]
        }
      ]
    },
    {
      "cell_type": "code",
      "source": [
        "word_index = dict()\n",
        "for word,number in word_index_org.items():\n",
        "    word_index[word] = number + 3\n",
        "word_index[\"<Заполнитель>\"] = 0\n",
        "word_index[\"<Начало последовательности>\"] = 1\n",
        "word_index[\"<Неизвестное слово>\"] = 2\n",
        "word_index[\"<Не используется>\"] = 3"
      ],
      "metadata": {
        "id": "Vnc71cLEL0xo"
      },
      "execution_count": 128,
      "outputs": []
    },
    {
      "cell_type": "code",
      "source": [
        "word = 'good'\n",
        "word_number = word_index[word]\n",
        "print('Номер слова', word_number)\n",
        "print('Вектор для слова', embedding_matrix[word_number])"
      ],
      "metadata": {
        "colab": {
          "base_uri": "https://localhost:8080/"
        },
        "id": "0M4UkUbjL00f",
        "outputId": "abdd6b3e-12b4-4e7d-9086-25a8515c8472"
      },
      "execution_count": 129,
      "outputs": [
        {
          "output_type": "stream",
          "name": "stdout",
          "text": [
            "Номер слова 52\n",
            "Вектор для слова [-0.06547222 -0.06856732]\n"
          ]
        }
      ]
    },
    {
      "cell_type": "code",
      "source": [
        "review = ['brilliant', 'fantastic', 'amazing', 'good',\n",
        "          'bad', 'awful','crap', 'terrible', 'trash']\n",
        "enc_review = []\n",
        "for word in review:\n",
        "    enc_review.append(word_index[word])\n",
        "enc_review"
      ],
      "metadata": {
        "colab": {
          "base_uri": "https://localhost:8080/"
        },
        "id": "419qdqecNApV",
        "outputId": "d6cfb886-63a4-4c71-93a8-7d77c8ffcd70"
      },
      "execution_count": 130,
      "outputs": [
        {
          "output_type": "execute_result",
          "data": {
            "text/plain": [
              "[530, 777, 480, 52, 78, 373, 595, 394, 1157]"
            ]
          },
          "metadata": {},
          "execution_count": 130
        }
      ]
    },
    {
      "cell_type": "code",
      "source": [
        "review_vectors = embedding_matrix[enc_review]\n",
        "review_vectors"
      ],
      "metadata": {
        "colab": {
          "base_uri": "https://localhost:8080/"
        },
        "id": "qYvlTgMWNBRh",
        "outputId": "6dc3acec-3ab7-4a9a-ea93-547612d22127"
      },
      "execution_count": 132,
      "outputs": [
        {
          "output_type": "execute_result",
          "data": {
            "text/plain": [
              "array([[-0.13575059, -0.13952628],\n",
              "       [-0.13503686, -0.14204259],\n",
              "       [-0.18861859, -0.18024397],\n",
              "       [-0.06547222, -0.06856732],\n",
              "       [ 0.2664036 ,  0.23969607],\n",
              "       [ 0.30635658,  0.3085593 ],\n",
              "       [ 0.13647252,  0.14782861],\n",
              "       [ 0.22159031,  0.21993229],\n",
              "       [ 0.05709602,  0.06097861]], dtype=float32)"
            ]
          },
          "metadata": {},
          "execution_count": 132
        }
      ]
    },
    {
      "cell_type": "code",
      "source": [
        "plt.scatter(review_vectors[:,0], review_vectors[:,1])\n",
        "for i, txt in enumerate(review):\n",
        "    plt.annotate(txt, (review_vectors[i,0], review_vectors[i,1]))"
      ],
      "metadata": {
        "colab": {
          "base_uri": "https://localhost:8080/",
          "height": 430
        },
        "id": "t0S7BzBbNEXp",
        "outputId": "9966d776-c221-44cd-9fcb-2c3eea57918d"
      },
      "execution_count": 133,
      "outputs": [
        {
          "output_type": "display_data",
          "data": {
            "text/plain": [
              "<Figure size 640x480 with 1 Axes>"
            ],
            "image/png": "[encoded data removed]"
          },
          "metadata": {}
        }
      ]
    },
    {
      "cell_type": "code",
      "source": [],
      "metadata": {
        "id": "Af-y3-V6NGNI"
      },
      "execution_count": null,
      "outputs": []
    }
  ]
}